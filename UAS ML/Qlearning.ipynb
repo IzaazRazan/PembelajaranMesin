{
 "cells": [
  {
   "cell_type": "code",
   "execution_count": 1,
   "id": "134a83cc-666b-4792-bde2-f79869ebb8a2",
   "metadata": {},
   "outputs": [],
   "source": [
    "import numpy as np\n",
    "import random"
   ]
  },
  {
   "cell_type": "code",
   "execution_count": 10,
   "id": "f8d52169-e814-4376-b9bf-db75f5227678",
   "metadata": {},
   "outputs": [],
   "source": [
    "board_size = 4\n",
    "num_pairs = 8\n",
    "total_states = board_size * board_size\n",
    "episodes = 200"
   ]
  },
  {
   "cell_type": "code",
   "execution_count": 11,
   "id": "3c9249be-3f4b-42a0-8a64-e205f542c19a",
   "metadata": {},
   "outputs": [],
   "source": [
    "learning_rate = 0.1\n",
    "discount_factor = 0.9\n",
    "epsilon = 1.0\n",
    "epsilon_decay = 0.995\n",
    "min_epsilon = 0.01"
   ]
  },
  {
   "cell_type": "code",
   "execution_count": 12,
   "id": "ae952849-2778-49f4-bc74-e5b5e983fa3c",
   "metadata": {},
   "outputs": [],
   "source": [
    "def create_board():\n",
    "    pairs = list(range(1, num_pairs + 1)) * 2\n",
    "    random.shuffle(pairs)\n",
    "    return np.array(pairs).reshape(board_size, board_size)"
   ]
  },
  {
   "cell_type": "code",
   "execution_count": 13,
   "id": "bf4aa272-0095-40e0-9f8e-497aecc2ab14",
   "metadata": {},
   "outputs": [],
   "source": [
    "def get_reward(board, pos1, pos2):\n",
    "    if board[pos1] == board[pos2]:\n",
    "        return 10\n",
    "    else:\n",
    "        return -1"
   ]
  },
  {
   "cell_type": "code",
   "execution_count": 14,
   "id": "a5a71a1d-ef11-4455-84c3-b3aab50499e6",
   "metadata": {},
   "outputs": [],
   "source": [
    "def choose_action(state, q_table, epsilon):\n",
    "    if random.uniform(0, 1) < epsilon:\n",
    "        return random.randint(0, total_states - 1), random.randint(0, total_states - 1)\n",
    "    else:\n",
    "        return divmod(np.argmax(q_table[state]), board_size)"
   ]
  },
  {
   "cell_type": "code",
   "execution_count": 15,
   "id": "776a4625-3fd4-4f69-8593-4b27aaf5d6f7",
   "metadata": {},
   "outputs": [],
   "source": [
    "q_table = np.zeros((total_states, total_states))"
   ]
  },
  {
   "cell_type": "code",
   "execution_count": 16,
   "id": "cbb91d1c-5203-452b-b6db-15cec3783ca4",
   "metadata": {},
   "outputs": [
    {
     "name": "stdout",
     "output_type": "stream",
     "text": [
      "Episode 0, Total Reward: -131\n",
      "Episode 20, Total Reward: 13\n",
      "Episode 40, Total Reward: -177\n",
      "Episode 60, Total Reward: -262\n",
      "Episode 80, Total Reward: -332\n",
      "Episode 100, Total Reward: -28\n",
      "Episode 120, Total Reward: -113\n",
      "Episode 140, Total Reward: -396\n",
      "Episode 160, Total Reward: -177\n",
      "Episode 180, Total Reward: -528\n",
      "Training selesai.\n"
     ]
    }
   ],
   "source": [
    "for episode in range(episodes):\n",
    "    board = create_board()\n",
    "    revealed = np.zeros_like(board)\n",
    "    state = random.randint(0, total_states - 1)\n",
    "    total_reward = 0\n",
    "\n",
    "    while not np.all(revealed):\n",
    "        pos1, pos2 = choose_action(state, q_table, epsilon)\n",
    "\n",
    "        while pos1 == pos2:\n",
    "            pos1, pos2 = choose_action(state, q_table, epsilon)\n",
    "\n",
    "        reward = get_reward(board, np.unravel_index(pos1, (board_size, board_size)),\n",
    "                            np.unravel_index(pos2, (board_size, board_size)))\n",
    "\n",
    "        new_state = random.randint(0, total_states - 1)\n",
    "        q_table[state, pos1] += learning_rate * (\n",
    "            reward + discount_factor * np.max(q_table[new_state]) - q_table[state, pos1]\n",
    "        )\n",
    "        q_table[state, pos2] += learning_rate * (\n",
    "            reward + discount_factor * np.max(q_table[new_state]) - q_table[state, pos2]\n",
    "        )\n",
    "\n",
    "        if reward == 10:\n",
    "            revealed[np.unravel_index(pos1, (board_size, board_size))] = 1\n",
    "            revealed[np.unravel_index(pos2, (board_size, board_size))] = 1\n",
    "\n",
    "        total_reward += reward\n",
    "        state = new_state\n",
    "\n",
    "    epsilon = max(min_epsilon, epsilon * epsilon_decay)\n",
    "\n",
    "    if episode % 20 == 0:\n",
    "        print(f\"Episode {episode}, Total Reward: {total_reward}\")\n",
    "\n",
    "print(\"Training selesai.\")"
   ]
  },
  {
   "cell_type": "code",
   "execution_count": null,
   "id": "2bbad308-7465-43df-afb6-53f6d9fbdcc6",
   "metadata": {},
   "outputs": [],
   "source": []
  }
 ],
 "metadata": {
  "kernelspec": {
   "display_name": "Python 3 (ipykernel)",
   "language": "python",
   "name": "python3"
  },
  "language_info": {
   "codemirror_mode": {
    "name": "ipython",
    "version": 3
   },
   "file_extension": ".py",
   "mimetype": "text/x-python",
   "name": "python",
   "nbconvert_exporter": "python",
   "pygments_lexer": "ipython3",
   "version": "3.12.4"
  }
 },
 "nbformat": 4,
 "nbformat_minor": 5
}
